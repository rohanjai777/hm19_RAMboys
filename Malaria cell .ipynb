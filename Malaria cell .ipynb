{
 "cells": [
  {
   "cell_type": "code",
   "execution_count": 1,
   "metadata": {},
   "outputs": [
    {
     "name": "stderr",
     "output_type": "stream",
     "text": [
      "C:\\Users\\mridu\\Anaconda3\\lib\\site-packages\\h5py\\__init__.py:36: FutureWarning: Conversion of the second argument of issubdtype from `float` to `np.floating` is deprecated. In future, it will be treated as `np.float64 == np.dtype(float).type`.\n",
      "  from ._conv import register_converters as _register_converters\n",
      "Using TensorFlow backend.\n"
     ]
    }
   ],
   "source": [
    "import numpy as np\n",
    "import pandas as pd\n",
    "import os\n",
    "from PIL import Image\n",
    "from keras.preprocessing.image import load_img,img_to_array"
   ]
  },
  {
   "cell_type": "code",
   "execution_count": 2,
   "metadata": {},
   "outputs": [],
   "source": [
    "infected='./cell_images/Parasitized/'\n",
    "uninfected='./cell_images/Uninfected/'"
   ]
  },
  {
   "cell_type": "code",
   "execution_count": 3,
   "metadata": {},
   "outputs": [],
   "source": [
    "train_infected=os.listdir(infected)\n",
    "train_uninfected=os.listdir(uninfected)"
   ]
  },
  {
   "cell_type": "code",
   "execution_count": 4,
   "metadata": {},
   "outputs": [
    {
     "name": "stdout",
     "output_type": "stream",
     "text": [
      "13780\n",
      "13780\n"
     ]
    }
   ],
   "source": [
    "print(len(train_infected))\n",
    "print(len(train_uninfected))"
   ]
  },
  {
   "cell_type": "code",
   "execution_count": 5,
   "metadata": {},
   "outputs": [
    {
     "name": "stdout",
     "output_type": "stream",
     "text": [
      "79\n",
      "79\n",
      "158\n",
      "158\n"
     ]
    }
   ],
   "source": [
    "X_val1=train_infected[13700:13779]\n",
    "print(len(X_val1))\n",
    "X_val2=train_uninfected[13700:13779]\n",
    "print(len(X_val2))\n",
    "X_val=[]\n",
    "for i in X_val1:\n",
    "    X_val.append(i)\n",
    "for i in X_val2:\n",
    "    X_val.append(i)\n",
    "print(len(X_val))\n",
    "y_val=[]\n",
    "for i in range(158):\n",
    "    if(i<79):\n",
    "        y_val.append(\"Infected\")\n",
    "    else:\n",
    "        y_val.append(\"Not Infected\")\n",
    "print(len(y_val))\n"
   ]
  },
  {
   "cell_type": "code",
   "execution_count": 6,
   "metadata": {},
   "outputs": [
    {
     "name": "stdout",
     "output_type": "stream",
     "text": [
      "25400\n",
      "25400\n"
     ]
    }
   ],
   "source": [
    "X_train1=train_infected[:12700]\n",
    "X_train2=train_uninfected[:12700]\n",
    "X_train=[]\n",
    "for i in X_train1:\n",
    "    X_train.append(i)\n",
    "for i in X_train2:\n",
    "    X_train.append(i)\n",
    "print(len(X_train))\n",
    "y_train=[]\n",
    "for i in range(25400):\n",
    "    if(i<12700):\n",
    "        y_train.append(\"Infected\")\n",
    "    else:\n",
    "        y_train.append(\"Not Infected\")\n",
    "print(len(y_train))"
   ]
  },
  {
   "cell_type": "code",
   "execution_count": 7,
   "metadata": {},
   "outputs": [
    {
     "name": "stdout",
     "output_type": "stream",
     "text": [
      "2000\n",
      "2000\n"
     ]
    }
   ],
   "source": [
    "X_test1=train_infected[12700:13700]\n",
    "X_test2=train_uninfected[12700:13700]\n",
    "X_test=[]\n",
    "for i in X_test1:\n",
    "    X_test.append(i)\n",
    "for i in X_test2:\n",
    "    X_test.append(i)\n",
    "print(len(X_test))\n",
    "y_test=[]\n",
    "for i in range(2000):\n",
    "    if(i<1000):\n",
    "        y_test.append(\"Infected\")\n",
    "    else:\n",
    "        y_test.append(\"Not Infected\")\n",
    "print(len(y_test))"
   ]
  },
  {
   "cell_type": "code",
   "execution_count": 8,
   "metadata": {},
   "outputs": [],
   "source": [
    "from PIL import ImageFile\n",
    "ImageFile.LOAD_TRUNCATED_IMAGES=True"
   ]
  },
  {
   "cell_type": "code",
   "execution_count": 9,
   "metadata": {},
   "outputs": [
    {
     "data": {
      "text/plain": [
       "'./cell_images/Parasitized/C100P61ThinF_IMG_20150918_144104_cell_162.png'"
      ]
     },
     "execution_count": 9,
     "metadata": {},
     "output_type": "execute_result"
    }
   ],
   "source": [
    "infected+X_train[0]"
   ]
  },
  {
   "cell_type": "code",
   "execution_count": 10,
   "metadata": {},
   "outputs": [
    {
     "name": "stdout",
     "output_type": "stream",
     "text": [
      "Shape of Training Data:  (25400, 100, 100, 3)\n"
     ]
    }
   ],
   "source": [
    "height=100\n",
    "width=100\n",
    "channels=3\n",
    "actualX_train=None\n",
    "actualX_train=np.ndarray(shape=(len(X_train),height,width,channels),dtype=np.float32)\n",
    "print(\"Shape of Training Data: \",actualX_train.shape)\n",
    "var=0\n",
    "for i in X_train:\n",
    "    if(var<12700):\n",
    "        img=load_img(infected+i)\n",
    "    else:\n",
    "        img=load_img(uninfected+i)\n",
    "    img=img.resize((width,height),Image.ANTIALIAS)\n",
    "    x=img_to_array(img)\n",
    "    actualX_train[var]=x\n",
    "    var+=1"
   ]
  },
  {
   "cell_type": "code",
   "execution_count": 11,
   "metadata": {},
   "outputs": [
    {
     "name": "stdout",
     "output_type": "stream",
     "text": [
      "Shape of Testing Data:  (2000, 100, 100, 3)\n"
     ]
    }
   ],
   "source": [
    "height=100\n",
    "width=100\n",
    "channels=3\n",
    "actualX_test=np.ndarray(shape=(len(X_test),height,width,channels),dtype=np.float32)\n",
    "print(\"Shape of Testing Data: \",actualX_test.shape)\n",
    "var=0\n",
    "for i in X_test:\n",
    "    if(var<1000):\n",
    "        img=load_img(infected+i)\n",
    "    else:\n",
    "        img=load_img(uninfected+i)\n",
    "    img=img.resize((width,height),Image.ANTIALIAS)\n",
    "    x=img_to_array(img)\n",
    "    actualX_test[var]=x\n",
    "    var+=1"
   ]
  },
  {
   "cell_type": "code",
   "execution_count": 12,
   "metadata": {},
   "outputs": [
    {
     "name": "stdout",
     "output_type": "stream",
     "text": [
      "Shape of Validation Data:  (158, 100, 100, 3)\n"
     ]
    }
   ],
   "source": [
    "height=100\n",
    "width=100\n",
    "channels=3\n",
    "actualX_val=np.ndarray(shape=(len(X_val),height,width,channels),dtype=np.float32)\n",
    "print(\"Shape of Validation Data: \",actualX_val.shape)\n",
    "var=0\n",
    "for i in X_val:\n",
    "    if(var<79):\n",
    "        img=load_img(infected+i)\n",
    "    else:\n",
    "        img=load_img(uninfected+i)\n",
    "    img=img.resize((width,height),Image.ANTIALIAS)\n",
    "    x=img_to_array(img)\n",
    "    actualX_val[var]=x\n",
    "    var+=1"
   ]
  },
  {
   "cell_type": "code",
   "execution_count": 13,
   "metadata": {},
   "outputs": [],
   "source": [
    "target_series=pd.Series(y_train)\n",
    "one_hot=pd.get_dummies(target_series,sparse=True)\n",
    "y_train=np.asarray(one_hot)"
   ]
  },
  {
   "cell_type": "code",
   "execution_count": 14,
   "metadata": {},
   "outputs": [],
   "source": [
    "target_series=pd.Series(y_test)\n",
    "one_hot=pd.get_dummies(target_series,sparse=True)\n",
    "y_test=np.asarray(one_hot)"
   ]
  },
  {
   "cell_type": "code",
   "execution_count": 15,
   "metadata": {},
   "outputs": [],
   "source": [
    "target_series=pd.Series(y_val)\n",
    "one_hot=pd.get_dummies(target_series,sparse=True)\n",
    "y_val=np.asarray(one_hot)"
   ]
  },
  {
   "cell_type": "code",
   "execution_count": 21,
   "metadata": {},
   "outputs": [
    {
     "name": "stdout",
     "output_type": "stream",
     "text": [
      "_________________________________________________________________\n",
      "Layer (type)                 Output Shape              Param #   \n",
      "=================================================================\n",
      "conv2d_6 (Conv2D)            (None, 100, 100, 32)      2432      \n",
      "_________________________________________________________________\n",
      "max_pooling2d_6 (MaxPooling2 (None, 50, 50, 32)        0         \n",
      "_________________________________________________________________\n",
      "conv2d_7 (Conv2D)            (None, 50, 50, 64)        51264     \n",
      "_________________________________________________________________\n",
      "max_pooling2d_7 (MaxPooling2 (None, 25, 25, 64)        0         \n",
      "_________________________________________________________________\n",
      "dropout_4 (Dropout)          (None, 25, 25, 64)        0         \n",
      "_________________________________________________________________\n",
      "conv2d_8 (Conv2D)            (None, 25, 25, 32)        51232     \n",
      "_________________________________________________________________\n",
      "max_pooling2d_8 (MaxPooling2 (None, 12, 12, 32)        0         \n",
      "_________________________________________________________________\n",
      "conv2d_9 (Conv2D)            (None, 8, 8, 64)          51264     \n",
      "_________________________________________________________________\n",
      "max_pooling2d_9 (MaxPooling2 (None, 4, 4, 64)          0         \n",
      "_________________________________________________________________\n",
      "conv2d_10 (Conv2D)           (None, 4, 4, 32)          51232     \n",
      "_________________________________________________________________\n",
      "max_pooling2d_10 (MaxPooling (None, 2, 2, 32)          0         \n",
      "_________________________________________________________________\n",
      "dropout_5 (Dropout)          (None, 2, 2, 32)          0         \n",
      "_________________________________________________________________\n",
      "global_average_pooling2d_2 ( (None, 32)                0         \n",
      "_________________________________________________________________\n",
      "dense_3 (Dense)              (None, 1000)              33000     \n",
      "_________________________________________________________________\n",
      "dropout_6 (Dropout)          (None, 1000)              0         \n",
      "_________________________________________________________________\n",
      "dense_4 (Dense)              (None, 2)                 2002      \n",
      "=================================================================\n",
      "Total params: 242,426\n",
      "Trainable params: 242,426\n",
      "Non-trainable params: 0\n",
      "_________________________________________________________________\n"
     ]
    }
   ],
   "source": [
    "from keras.models import Sequential\n",
    "from keras.layers import Dense,Dropout,Flatten,Conv2D,MaxPooling2D\n",
    "from keras.layers import GlobalAveragePooling2D\n",
    "\n",
    "\n",
    "model=Sequential()\n",
    "model.add(Conv2D(filters=32,kernel_size=5,padding='same',activation='relu',input_shape=(100,100,3)))\n",
    "model.add(MaxPooling2D(pool_size=2))\n",
    "\n",
    "model.add(Conv2D(filters=64,kernel_size=5,padding='same',activation='relu'))\n",
    "model.add(MaxPooling2D(pool_size=2))\n",
    "model.add(Dropout(0.3))\n",
    "\n",
    "model.add(Conv2D(filters=32,kernel_size=5,padding='same',activation='relu'))\n",
    "model.add(MaxPooling2D(pool_size=2))\n",
    "\n",
    "model.add(Conv2D(filters=64,kernel_size=5,activation='relu'))\n",
    "model.add(MaxPooling2D(pool_size=2))\n",
    "\n",
    "\n",
    "model.add(Conv2D(filters=32,kernel_size=5,padding='same',activation='relu'))\n",
    "model.add(MaxPooling2D(pool_size=2))\n",
    "model.add(Dropout(0.2))\n",
    "\n",
    "model.add(GlobalAveragePooling2D())\n",
    "\n",
    "model.add(Dense(1000,activation='relu'))\n",
    "model.add(Dropout(0.5))\n",
    "\n",
    "model.add(Dense(2,activation='softmax'))\n",
    "\n",
    "model.summary()"
   ]
  },
  {
   "cell_type": "code",
   "execution_count": 22,
   "metadata": {},
   "outputs": [],
   "source": [
    "model.compile(loss='categorical_crossentropy', optimizer='adam', metrics=['accuracy'])"
   ]
  },
  {
   "cell_type": "code",
   "execution_count": 23,
   "metadata": {},
   "outputs": [
    {
     "data": {
      "text/plain": [
       "numpy.ndarray"
      ]
     },
     "execution_count": 23,
     "metadata": {},
     "output_type": "execute_result"
    }
   ],
   "source": [
    "type(actualX_val[0])"
   ]
  },
  {
   "cell_type": "code",
   "execution_count": 24,
   "metadata": {},
   "outputs": [
    {
     "name": "stdout",
     "output_type": "stream",
     "text": [
      "WARNING:tensorflow:From C:\\Users\\mridu\\Anaconda3\\lib\\site-packages\\tensorflow\\python\\ops\\math_ops.py:3066: to_int32 (from tensorflow.python.ops.math_ops) is deprecated and will be removed in a future version.\n",
      "Instructions for updating:\n",
      "Use tf.cast instead.\n",
      "Train on 25400 samples, validate on 158 samples\n",
      "Epoch 1/10\n",
      "25400/25400 [==============================] - 11711s 461ms/step - loss: 0.4589 - acc: 0.7719 - val_loss: 0.3270 - val_acc: 0.9304\n",
      "\n",
      "Epoch 00001: val_loss improved from inf to 0.32696, saving model to model.malaria.hdf5\n",
      "Epoch 2/10\n",
      "25400/25400 [==============================] - 1656s 65ms/step - loss: 0.1592 - acc: 0.9487 - val_loss: 0.2547 - val_acc: 0.9304\n",
      "\n",
      "Epoch 00002: val_loss improved from 0.32696 to 0.25470, saving model to model.malaria.hdf5\n",
      "Epoch 3/10\n",
      "25400/25400 [==============================] - 1673s 66ms/step - loss: 0.1439 - acc: 0.9514 - val_loss: 0.1680 - val_acc: 0.9494\n",
      "\n",
      "Epoch 00003: val_loss improved from 0.25470 to 0.16803, saving model to model.malaria.hdf5\n",
      "Epoch 4/10\n",
      "25400/25400 [==============================] - 1497s 59ms/step - loss: 0.1368 - acc: 0.9550 - val_loss: 0.2088 - val_acc: 0.9430\n",
      "\n",
      "Epoch 00004: val_loss did not improve from 0.16803\n",
      "Epoch 5/10\n",
      "25400/25400 [==============================] - 1581s 62ms/step - loss: 0.1302 - acc: 0.9563 - val_loss: 0.2308 - val_acc: 0.9114\n",
      "\n",
      "Epoch 00005: val_loss did not improve from 0.16803\n",
      "Epoch 6/10\n",
      "25400/25400 [==============================] - 1527s 60ms/step - loss: 0.1232 - acc: 0.9584 - val_loss: 0.2002 - val_acc: 0.9241\n",
      "\n",
      "Epoch 00006: val_loss did not improve from 0.16803\n",
      "Epoch 7/10\n",
      "25400/25400 [==============================] - 1408s 55ms/step - loss: 0.1186 - acc: 0.9592 - val_loss: 0.1873 - val_acc: 0.9367\n",
      "\n",
      "Epoch 00007: val_loss did not improve from 0.16803\n",
      "Epoch 00007: early stopping\n"
     ]
    }
   ],
   "source": [
    "from keras.callbacks import ModelCheckpoint,EarlyStopping\n",
    "\n",
    "checkpointer=ModelCheckpoint(filepath='model.malaria.hdf5',verbose=1,save_best_only=True)\n",
    "early_stop=EarlyStopping(monitor='val_loss',patience=4,verbose=1)\n",
    "cnn=model.fit(actualX_train,y_train,batch_size=100,epochs=10,validation_data=(actualX_val,y_val),callbacks=[checkpointer,early_stop],verbose=1,shuffle=True)"
   ]
  },
  {
   "cell_type": "code",
   "execution_count": 25,
   "metadata": {},
   "outputs": [],
   "source": [
    "model.load_weights('model.malaria.hdf5')"
   ]
  },
  {
   "cell_type": "code",
   "execution_count": 26,
   "metadata": {},
   "outputs": [
    {
     "data": {
      "text/plain": [
       "0.949"
      ]
     },
     "execution_count": 26,
     "metadata": {},
     "output_type": "execute_result"
    }
   ],
   "source": [
    "score=model.evaluate(actualX_test,y_test,verbose=0)\n",
    "score[1]"
   ]
  },
  {
   "cell_type": "code",
   "execution_count": 60,
   "metadata": {},
   "outputs": [],
   "source": [
    "import time"
   ]
  },
  {
   "cell_type": "code",
   "execution_count": null,
   "metadata": {},
   "outputs": [
    {
     "name": "stdout",
     "output_type": "stream",
     "text": [
      "Enter The Path Of The X Ray IMage of your cell\n"
     ]
    }
   ],
   "source": [
    "print(\"Enter The Path Of The X Ray IMage of your cell\")\n",
    "path=input()\n",
    "print(\"[INFO] Give Me A Second ..  Im working on it\")\n",
    "a=np.ndarray(shape=(1,100,100,3),dtype=np.float32)\n",
    "img=load_img(path)\n",
    "img=img.resize((100,100),Image.ANTIALIAS)\n",
    "x=img_to_array(img)\n",
    "x=x.reshape((1,100,100,3))\n",
    "a=x\n",
    "prediction=model.predict(a)\n",
    "prediction=prediction.reshape(-1).tolist()\n",
    "time.sleep(5.0)\n",
    "if(prediction[0]>prediction[1]):\n",
    "    print(\"Malaria Cells Detected,Consult Your Doctor\")\n",
    "else:\n",
    "    print(\"No Worries! You are Not infected!\")"
   ]
  },
  {
   "cell_type": "code",
   "execution_count": null,
   "metadata": {},
   "outputs": [],
   "source": []
  }
 ],
 "metadata": {
  "kernelspec": {
   "display_name": "Python 3",
   "language": "python",
   "name": "python3"
  },
  "language_info": {
   "codemirror_mode": {
    "name": "ipython",
    "version": 3
   },
   "file_extension": ".py",
   "mimetype": "text/x-python",
   "name": "python",
   "nbconvert_exporter": "python",
   "pygments_lexer": "ipython3",
   "version": "3.6.5"
  }
 },
 "nbformat": 4,
 "nbformat_minor": 2
}
